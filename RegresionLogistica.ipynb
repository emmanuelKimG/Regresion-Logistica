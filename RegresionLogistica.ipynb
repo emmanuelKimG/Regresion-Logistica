{
 "cells": [
  {
   "cell_type": "code",
   "execution_count": 2,
   "metadata": {},
   "outputs": [
    {
     "name": "stdout",
     "output_type": "stream",
     "text": [
      "    3.462.365.962  7.802.469.282  0\n",
      "0   3.028.671.077  4.389.499.752  0\n",
      "1   3.584.740.877  7.290.219.803  0\n",
      "2   6.018.259.939    863.085.521  1\n",
      "3   7.903.273.605  7.534.437.644  1\n",
      "4   4.508.327.748  5.631.637.178  0\n",
      "..            ...            ... ..\n",
      "94  8.348.916.274    483.802.858  1\n",
      "95  4.226.170.081  8.710.385.094  1\n",
      "96  9.931.500.881  6.877.540.947  1\n",
      "97  5.534.001.756  6.493.193.801  1\n",
      "98     74.775.893    895.298.129  1\n",
      "\n",
      "[99 rows x 3 columns]\n"
     ]
    },
    {
     "ename": "TypeError",
     "evalue": "unsupported operand type(s) for /: 'str' and 'int'",
     "output_type": "error",
     "traceback": [
      "\u001b[1;31m---------------------------------------------------------------------------\u001b[0m",
      "\u001b[1;31mTypeError\u001b[0m                                 Traceback (most recent call last)",
      "\u001b[1;32mc:\\Users\\Emmanuel Kim\\Desktop\\IA\\RegresionLogistica\\RegresionLogistica.ipynb Celda 1\u001b[0m in \u001b[0;36m<cell line: 15>\u001b[1;34m()\u001b[0m\n\u001b[0;32m     <a href='vscode-notebook-cell:/c%3A/Users/Emmanuel%20Kim/Desktop/IA/RegresionLogistica/RegresionLogistica.ipynb#W0sZmlsZQ%3D%3D?line=12'>13</a>\u001b[0m \u001b[39mprint\u001b[39m(data)\n\u001b[0;32m     <a href='vscode-notebook-cell:/c%3A/Users/Emmanuel%20Kim/Desktop/IA/RegresionLogistica/RegresionLogistica.ipynb#W0sZmlsZQ%3D%3D?line=13'>14</a>\u001b[0m \u001b[39m#tenemos que hacer el calculo para una muestra poblacional\u001b[39;00m\n\u001b[1;32m---> <a href='vscode-notebook-cell:/c%3A/Users/Emmanuel%20Kim/Desktop/IA/RegresionLogistica/RegresionLogistica.ipynb#W0sZmlsZQ%3D%3D?line=14'>15</a>\u001b[0m media \u001b[39m=\u001b[39m x\u001b[39m.\u001b[39;49mmean(axis\u001b[39m=\u001b[39;49m\u001b[39m0\u001b[39;49m)\n\u001b[0;32m     <a href='vscode-notebook-cell:/c%3A/Users/Emmanuel%20Kim/Desktop/IA/RegresionLogistica/RegresionLogistica.ipynb#W0sZmlsZQ%3D%3D?line=15'>16</a>\u001b[0m sigma \u001b[39m=\u001b[39m x\u001b[39m.\u001b[39mstd(axis\u001b[39m=\u001b[39m\u001b[39m0\u001b[39m, ddof\u001b[39m=\u001b[39m\u001b[39m1\u001b[39m)\n",
      "File \u001b[1;32mc:\\Users\\Emmanuel Kim\\AppData\\Local\\Programs\\Python\\Python310\\lib\\site-packages\\numpy\\core\\_methods.py:182\u001b[0m, in \u001b[0;36m_mean\u001b[1;34m(a, axis, dtype, out, keepdims, where)\u001b[0m\n\u001b[0;32m    180\u001b[0m ret \u001b[39m=\u001b[39m umr_sum(arr, axis, dtype, out, keepdims, where\u001b[39m=\u001b[39mwhere)\n\u001b[0;32m    181\u001b[0m \u001b[39mif\u001b[39;00m \u001b[39misinstance\u001b[39m(ret, mu\u001b[39m.\u001b[39mndarray):\n\u001b[1;32m--> 182\u001b[0m     ret \u001b[39m=\u001b[39m um\u001b[39m.\u001b[39;49mtrue_divide(\n\u001b[0;32m    183\u001b[0m             ret, rcount, out\u001b[39m=\u001b[39;49mret, casting\u001b[39m=\u001b[39;49m\u001b[39m'\u001b[39;49m\u001b[39munsafe\u001b[39;49m\u001b[39m'\u001b[39;49m, subok\u001b[39m=\u001b[39;49m\u001b[39mFalse\u001b[39;49;00m)\n\u001b[0;32m    184\u001b[0m     \u001b[39mif\u001b[39;00m is_float16_result \u001b[39mand\u001b[39;00m out \u001b[39mis\u001b[39;00m \u001b[39mNone\u001b[39;00m:\n\u001b[0;32m    185\u001b[0m         ret \u001b[39m=\u001b[39m arr\u001b[39m.\u001b[39mdtype\u001b[39m.\u001b[39mtype(ret)\n",
      "\u001b[1;31mTypeError\u001b[0m: unsupported operand type(s) for /: 'str' and 'int'"
     ]
    }
   ],
   "source": [
    "import pandas as pd\n",
    "import numpy as np\n",
    "\n",
    "data = pd.read_csv('dataset_RegresionLogistica1.csv')\n",
    "\n",
    "n = np.size(data,1)\n",
    "\n",
    "array = data.values\n",
    "\n",
    "x= array[:,0:n-1]\n",
    "y= array[:,n-1]\n",
    "\n",
    "print(data)\n",
    "#tenemos que hacer el calculo para una muestra poblacional\n",
    "media = x.mean(axis=0)\n",
    "sigma = x.std(axis=0, ddof=1)\n",
    "\n",
    "\n"
   ]
  },
  {
   "cell_type": "code",
   "execution_count": 24,
   "metadata": {},
   "outputs": [],
   "source": [
    "\n",
    "#Estandarizacion\n",
    "from sklearn import linear_model\n",
    "\n",
    "x = (x-media)/sigma \n",
    "\n",
    "#Penalizacion se usa en algorigtmos de optimizacion y regularizacion \n",
    "#La regularizacion se usa para suavizar los datos del modelo y evitar overfitting\n",
    "#Solver es el que calcula la funcion de costo\n",
    "model = linear_model.LogisticRegression(penalty='none',solver='sag')\n",
    " \n"
   ]
  },
  {
   "cell_type": "code",
   "execution_count": 27,
   "metadata": {},
   "outputs": [
    {
     "name": "stdout",
     "output_type": "stream",
     "text": [
      "a0 : [1.75770473] a1 : 3.9249851149009074 a2 : 3.7258520706654767\n"
     ]
    }
   ],
   "source": [
    "#Entrenamiento\n",
    "\n",
    "model.fit(x,y)\n",
    "print(\"a0 :\",model.intercept_,\"a1 :\",model.coef_[0,0], \"a2 :\",model.coef_[0,1])\n",
    "\n",
    "\n"
   ]
  },
  {
   "cell_type": "code",
   "execution_count": null,
   "metadata": {},
   "outputs": [],
   "source": [
    "datoPrueba = [[60,60]]\n",
    "datoPrueba = (datoPrueba - media) /sigma \n",
    "\n",
    "clasificacion = model.predict(datoPrueba)\n",
    "print(\"Prediccion : \",clasificacion)\n",
    "\n"
   ]
  },
  {
   "cell_type": "code",
   "execution_count": null,
   "metadata": {},
   "outputs": [],
   "source": []
  }
 ],
 "metadata": {
  "kernelspec": {
   "display_name": "Python 3.10.6 64-bit",
   "language": "python",
   "name": "python3"
  },
  "language_info": {
   "codemirror_mode": {
    "name": "ipython",
    "version": 3
   },
   "file_extension": ".py",
   "mimetype": "text/x-python",
   "name": "python",
   "nbconvert_exporter": "python",
   "pygments_lexer": "ipython3",
   "version": "3.10.6"
  },
  "orig_nbformat": 4,
  "vscode": {
   "interpreter": {
    "hash": "14e6090c3a920dc33f0a797383029adc6b9c0994cec83b4af8103331ed5b7537"
   }
  }
 },
 "nbformat": 4,
 "nbformat_minor": 2
}
